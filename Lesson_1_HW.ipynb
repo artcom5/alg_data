{
 "cells": [
  {
   "cell_type": "markdown",
   "metadata": {
    "id": "Kw01g10zBjZr"
   },
   "source": [
    "## Урок 1. Алгоритм линейной регрессии. Градиентный спуск"
   ]
  },
  {
   "cell_type": "code",
   "execution_count": 1,
   "metadata": {
    "id": "ak8b3KV45kVW"
   },
   "outputs": [],
   "source": [
    "import numpy as np\n",
    "import matplotlib.pyplot as plt"
   ]
  },
  {
   "cell_type": "markdown",
   "metadata": {
    "id": "VphnS-M8BjZ5"
   },
   "source": [
    "__Задача:__ предсказание баллов ЕГЭ ученика в зависимости от количества лет стажа его репетитора"
   ]
  },
  {
   "cell_type": "code",
   "execution_count": 2,
   "metadata": {
    "id": "i77tZbAd5plB",
    "outputId": "784cb9ea-d0b1-4633-8ded-80edaa795b76"
   },
   "outputs": [
    {
     "data": {
      "text/plain": [
       "array([[ 1,  1,  1,  1,  1,  1,  1,  1,  1,  1],\n",
       "       [ 1,  1,  2,  5,  3,  0,  5, 10,  1,  2]])"
      ]
     },
     "execution_count": 2,
     "metadata": {},
     "output_type": "execute_result"
    }
   ],
   "source": [
    "X = np.array([[1, 1, 1, 1, 1, 1, 1, 1, 1, 1],\n",
    "              [1, 1, 2, 5, 3, 0, 5, 10, 1, 2]])\n",
    "X"
   ]
  },
  {
   "cell_type": "code",
   "execution_count": 3,
   "metadata": {
    "colab": {
     "base_uri": "https://localhost:8080/",
     "height": 34
    },
    "id": "ejifaMBe6VaP",
    "outputId": "190a541b-5c6d-48f6-8982-b513de5d7606"
   },
   "outputs": [
    {
     "data": {
      "text/plain": [
       "(2, 10)"
      ]
     },
     "execution_count": 3,
     "metadata": {},
     "output_type": "execute_result"
    }
   ],
   "source": [
    "X.shape"
   ]
  },
  {
   "cell_type": "code",
   "execution_count": 4,
   "metadata": {
    "id": "VsNrKi1Q6Wmh"
   },
   "outputs": [],
   "source": [
    "y = [45, 55, 50, 55, 60, 35, 75, 80, 50, 60]"
   ]
  },
  {
   "cell_type": "markdown",
   "metadata": {
    "id": "KCwytUyLBjZ_"
   },
   "source": [
    "Уравнение прямой: $y = a*x + b$"
   ]
  },
  {
   "cell_type": "code",
   "execution_count": 5,
   "metadata": {
    "id": "NntLxvtU7CbH"
   },
   "outputs": [],
   "source": [
    "y_pred1 = 35 * np.ones(10) + X[1]*5\n",
    "y_pred2 = 40 * np.ones(10) + X[1]*7.5"
   ]
  },
  {
   "cell_type": "code",
   "execution_count": 6,
   "metadata": {
    "colab": {
     "base_uri": "https://localhost:8080/",
     "height": 282
    },
    "id": "OTikrodr6n-i",
    "outputId": "9c347927-ae0d-40ba-bcd7-fdd9de2688bf"
   },
   "outputs": [
    {
     "data": {
      "image/png": "[encoded data removed]",
      "text/plain": [
       "<Figure size 432x288 with 1 Axes>"
      ]
     },
     "metadata": {
      "needs_background": "light"
     },
     "output_type": "display_data"
    }
   ],
   "source": [
    "plt.scatter(X[1], y)\n",
    "plt.plot(X[1], y_pred1, label='1')\n",
    "plt.plot(X[1], y_pred2, label='2')\n",
    "plt.legend()\n",
    "plt.show()"
   ]
  },
  {
   "cell_type": "markdown",
   "metadata": {
    "id": "PoGiEvgRBjaE"
   },
   "source": [
    "Простая ошибка:"
   ]
  },
  {
   "cell_type": "code",
   "execution_count": 7,
   "metadata": {
    "id": "zbsqjAxH9WqI",
    "outputId": "275ebf45-370d-4b10-d672-a515fab31e7c"
   },
   "outputs": [
    {
     "data": {
      "text/plain": [
       "(65.0, -60.0)"
      ]
     },
     "execution_count": 7,
     "metadata": {},
     "output_type": "execute_result"
    }
   ],
   "source": [
    "err1 = np.sum(y - y_pred1)\n",
    "err2 = np.sum(y - y_pred2)\n",
    "err1, err2"
   ]
  },
  {
   "cell_type": "markdown",
   "metadata": {
    "id": "mKomUlv3BjaG"
   },
   "source": [
    "MAE (Mean Absolute Error):"
   ]
  },
  {
   "cell_type": "code",
   "execution_count": 8,
   "metadata": {
    "id": "vUqCthPf9eYI",
    "outputId": "ae4eefa4-ba6b-4bee-a26d-fa573d9a70f9"
   },
   "outputs": [
    {
     "data": {
      "text/plain": [
       "(8.5, 9.0)"
      ]
     },
     "execution_count": 8,
     "metadata": {},
     "output_type": "execute_result"
    }
   ],
   "source": [
    "mae_1 = np.sum(np.abs(y - y_pred1)) / 10\n",
    "mae_2 = np.sum(np.abs(y - y_pred2)) / 10\n",
    "mae_1, mae_2"
   ]
  },
  {
   "cell_type": "markdown",
   "metadata": {
    "id": "QdkR8AXyBjaI"
   },
   "source": [
    "MSE (Mean Squared Error):"
   ]
  },
  {
   "cell_type": "code",
   "execution_count": 9,
   "metadata": {
    "id": "XTn2bZIg_EBS",
    "outputId": "ec71ad62-9b62-4308-fcd0-239f107d35c3"
   },
   "outputs": [
    {
     "data": {
      "text/plain": [
       "(97.5, 188.75)"
      ]
     },
     "execution_count": 9,
     "metadata": {},
     "output_type": "execute_result"
    }
   ],
   "source": [
    "mse_1 = np.mean((y - y_pred1)**2)\n",
    "mse_2 = np.mean((y - y_pred2)**2)\n",
    "mse_1, mse_2"
   ]
  },
  {
   "cell_type": "markdown",
   "metadata": {
    "id": "R4zHyZ2Da5HV"
   },
   "source": [
    "Метод наименьших квадратов (МНК):"
   ]
  },
  {
   "cell_type": "code",
   "execution_count": 10,
   "metadata": {
    "colab": {
     "base_uri": "https://localhost:8080/",
     "height": 34
    },
    "id": "GEeiext0BR1m",
    "outputId": "2a5e98e6-e201-4cf9-c113-bb207490b31e"
   },
   "outputs": [
    {
     "data": {
      "text/plain": [
       "(2, 10)"
      ]
     },
     "execution_count": 10,
     "metadata": {},
     "output_type": "execute_result"
    }
   ],
   "source": [
    "X.shape"
   ]
  },
  {
   "cell_type": "code",
   "execution_count": 11,
   "metadata": {
    "colab": {
     "base_uri": "https://localhost:8080/",
     "height": 34
    },
    "id": "j1BN1FZHBVo8",
    "outputId": "d5820bdf-e0a3-4de0-96ef-b73e9b43fd64"
   },
   "outputs": [
    {
     "data": {
      "text/plain": [
       "(10, 2)"
      ]
     },
     "execution_count": 11,
     "metadata": {},
     "output_type": "execute_result"
    }
   ],
   "source": [
    "X.T.shape"
   ]
  },
  {
   "cell_type": "code",
   "execution_count": 12,
   "metadata": {
    "id": "X6Jhs8W8BjaK",
    "outputId": "42e35057-8799-4927-8ee2-b320fa3e88e4"
   },
   "outputs": [
    {
     "data": {
      "text/plain": [
       "True"
      ]
     },
     "execution_count": 12,
     "metadata": {},
     "output_type": "execute_result"
    }
   ],
   "source": [
    "all(X @ y == np.dot(X,y))"
   ]
  },
  {
   "cell_type": "code",
   "execution_count": 13,
   "metadata": {
    "colab": {
     "base_uri": "https://localhost:8080/",
     "height": 34
    },
    "id": "mnyZzkaDBegD",
    "outputId": "368800a6-deef-46d0-b27f-d6eb5e46a743"
   },
   "outputs": [
    {
     "data": {
      "text/plain": [
       "array([45.0625,  3.8125])"
      ]
     },
     "execution_count": 13,
     "metadata": {},
     "output_type": "execute_result"
    }
   ],
   "source": [
    "W = np.linalg.inv(np.dot(X, X.T)) @ X @ y\n",
    "W"
   ]
  },
  {
   "cell_type": "code",
   "execution_count": 14,
   "metadata": {
    "id": "IukREVxDBjaM"
   },
   "outputs": [],
   "source": [
    "y_pred3 = W[0] * X[0] + W[1] * X[1]"
   ]
  },
  {
   "cell_type": "code",
   "execution_count": 15,
   "metadata": {
    "colab": {
     "base_uri": "https://localhost:8080/",
     "height": 282
    },
    "id": "Lyg-J3H7Bnv5",
    "outputId": "7701dd28-d123-4773-cd1f-1439abfb6d90"
   },
   "outputs": [
    {
     "data": {
      "image/png": "[encoded data removed]",
      "text/plain": [
       "<Figure size 432x288 with 1 Axes>"
      ]
     },
     "metadata": {
      "needs_background": "light"
     },
     "output_type": "display_data"
    }
   ],
   "source": [
    "plt.scatter(X[1], y)\n",
    "plt.plot(X[1], y_pred1, label='1 - manual')\n",
    "plt.plot(X[1], y_pred2, label='2 - manual')\n",
    "plt.plot(X[1], y_pred3, label='3 - analytical solution')\n",
    "plt.legend()\n",
    "plt.show()"
   ]
  },
  {
   "cell_type": "code",
   "execution_count": 16,
   "metadata": {
    "id": "JTSC2cFnCd8T"
   },
   "outputs": [],
   "source": [
    "def calc_mae(y, y_pred):\n",
    "    err = np.mean(np.abs(y - y_pred))\n",
    "    return err\n",
    "\n",
    "def calc_mse(y, y_pred):\n",
    "    err = np.mean((y - y_pred)**2) # <=> 1/n * np.sum((y_pred - y)**2)\n",
    "    return err"
   ]
  },
  {
   "cell_type": "code",
   "execution_count": 17,
   "metadata": {
    "colab": {
     "base_uri": "https://localhost:8080/",
     "height": 34
    },
    "id": "MYSrwISJDGfS",
    "outputId": "891bfd3a-142c-466c-a9d9-7ebfb303e86c"
   },
   "outputs": [
    {
     "data": {
      "text/plain": [
       "(8.5, 97.5)"
      ]
     },
     "execution_count": 17,
     "metadata": {},
     "output_type": "execute_result"
    }
   ],
   "source": [
    "calc_mae(y, y_pred1), calc_mse(y, y_pred1)"
   ]
  },
  {
   "cell_type": "code",
   "execution_count": 18,
   "metadata": {
    "colab": {
     "base_uri": "https://localhost:8080/",
     "height": 34
    },
    "id": "oi4FNXFlBjaN",
    "outputId": "891bfd3a-142c-466c-a9d9-7ebfb303e86c"
   },
   "outputs": [
    {
     "data": {
      "text/plain": [
       "(9.0, 188.75)"
      ]
     },
     "execution_count": 18,
     "metadata": {},
     "output_type": "execute_result"
    }
   ],
   "source": [
    "calc_mae(y, y_pred2), calc_mse(y, y_pred2)"
   ]
  },
  {
   "cell_type": "code",
   "execution_count": 19,
   "metadata": {
    "colab": {
     "base_uri": "https://localhost:8080/",
     "height": 34
    },
    "id": "_WtO6lvhDmQ6",
    "outputId": "8de8b895-85d8-448e-f565-b70e93a5dd25"
   },
   "outputs": [
    {
     "data": {
      "text/plain": [
       "(5.7875, 43.96875)"
      ]
     },
     "execution_count": 19,
     "metadata": {},
     "output_type": "execute_result"
    }
   ],
   "source": [
    "calc_mae(y, y_pred3), calc_mse(y, y_pred3)"
   ]
  },
  {
   "cell_type": "markdown",
   "metadata": {
    "id": "JAOgIXLRa--g"
   },
   "source": [
    "Градиентный спуск"
   ]
  },
  {
   "cell_type": "code",
   "execution_count": 20,
   "metadata": {
    "id": "DNebwUP7Fd8F"
   },
   "outputs": [],
   "source": [
    "n = 10\n",
    "Q = 1/n * np.sum((y_pred3 - y)**2) # функционал ошибки, y = X*w"
   ]
  },
  {
   "cell_type": "code",
   "execution_count": 21,
   "metadata": {
    "id": "5DKkvmkwHdOx"
   },
   "outputs": [],
   "source": [
    "alpha = 1e-2 # величина шага\n",
    "g = alpha * (1/n * 2 * np.sum(X[0] * (W[0] * X[0] - y)))"
   ]
  },
  {
   "cell_type": "code",
   "execution_count": 22,
   "metadata": {
    "colab": {
     "base_uri": "https://localhost:8080/",
     "height": 34
    },
    "id": "ZVRCF5P2MYI6",
    "outputId": "0b0e2f05-a23c-4bf8-f37d-b4240d2e0af0"
   },
   "outputs": [
    {
     "data": {
      "text/plain": [
       "(45.0625, 45.29125)"
      ]
     },
     "execution_count": 22,
     "metadata": {},
     "output_type": "execute_result"
    }
   ],
   "source": [
    "W[0], W[0] - g"
   ]
  },
  {
   "cell_type": "markdown",
   "metadata": {
    "id": "QqGEYJDNBjaP"
   },
   "source": [
    "### Практическое задание"
   ]
  },
  {
   "cell_type": "markdown",
   "metadata": {
    "id": "huXrhXQsZTMt"
   },
   "source": [
    "1. Подберите скорость обучения (alpha) и количество итераций."
   ]
  },
  {
   "cell_type": "code",
   "execution_count": 108,
   "metadata": {
    "colab": {
     "base_uri": "https://localhost:8080/",
     "height": 185
    },
    "id": "IDB22MQKMYaJ",
    "outputId": "4c03219e-a57c-4583-f439-6699fd0619bb",
    "scrolled": true
   },
   "outputs": [
    {
     "name": "stdout",
     "output_type": "stream",
     "text": [
      "Number of objects = 10        \n",
      "Learning rate = 0.01        \n",
      "Initial weights = [1.  0.5] \n",
      "\n",
      "Iteration #0: W_new = [2.08 4.27], MSE = 3047.75\n",
      "Iteration #10: W_new = [ 7.39629734 10.59023474], MSE = 725.726\n",
      "Iteration #20: W_new = [11.43684431  9.90981467], MSE = 588.707\n",
      "Iteration #30: W_new = [15.41441795  9.18872231], MSE = 468.53\n",
      "Iteration #40: W_new = [19.28710767  8.48646999], MSE = 365.765\n",
      "Iteration #50: W_new = [23.00244726  7.81275044], MSE = 280.422\n",
      "Iteration #60: W_new = [26.50875969  7.17693474], MSE = 211.814\n",
      "Iteration #70: W_new = [29.75787403  6.58775795], MSE = 158.62\n",
      "Iteration #80: W_new = [32.70803445  6.05279184], MSE = 119.003\n",
      "Iteration #90: W_new = [35.32678169  5.57792241], MSE = 90.79\n",
      "Iteration #100: W_new = [37.59348534  5.16689065], MSE = 71.674\n",
      "Iteration #110: W_new = [39.5011677   4.82096187], MSE = 59.421\n",
      "Iteration #120: W_new = [41.05727646  4.53878553], MSE = 52.037\n",
      "Iteration #130: W_new = [42.28315275  4.31649177], MSE = 47.883\n",
      "Iteration #140: W_new = [43.21210686  4.14804027], MSE = 45.718\n",
      "Iteration #150: W_new = [43.88624065  4.0257965 ], MSE = 44.682\n",
      "Iteration #160: W_new = [44.35240043  3.94126561], MSE = 44.231\n",
      "Iteration #170: W_new = [44.65784537  3.88587788], MSE = 44.055\n",
      "Iteration #180: W_new = [44.84630536  3.85170356], MSE = 43.994\n",
      "Iteration #190: W_new = [44.9550329  3.8319875], MSE = 43.975\n",
      "Iteration #200: W_new = [45.01322483  3.82143528], MSE = 43.97\n",
      "Iteration #206: W_new = [45.03061051  3.81828327], MSE = 43.969\n"
     ]
    }
   ],
   "source": [
    "n = X.shape[1]\n",
    "alpha = 1e-2\n",
    "# критерий сходимости\n",
    "epsilon = 1e-4\n",
    "W = np.array([1, 0.5])\n",
    "\n",
    "new_err = np.inf\n",
    "print(f'Number of objects = {n} \\\n",
    "       \\nLearning rate = {alpha} \\\n",
    "       \\nInitial weights = {W} \\n')\n",
    "\n",
    "for i in range(1000):\n",
    "    y_pred = np.dot(W, X)\n",
    "    err = calc_mse(y, y_pred)\n",
    "    # ИЗМЕНЕНИЯ пока MSE > epsilon спускаемся по градиенту \n",
    "    if new_err - err > epsilon:\n",
    "            new_err = err\n",
    "            for k in range(W.shape[0]):\n",
    "                W[k] -= alpha * (1/n * 2 * np.sum(X[k] * (y_pred - y)))\n",
    "            if i % 10 == 0:\n",
    "                alpha /= 0.9\n",
    "                print(f'Iteration #{i}: W_new = {W}, MSE = {round(err,3)}')\n",
    "    else:\n",
    "        break\n",
    "print(f'Iteration #{i}: W_new = {W}, MSE = {round(err,3)}')"
   ]
  },
  {
   "cell_type": "code",
   "execution_count": 67,
   "metadata": {},
   "outputs": [
    {
     "data": {
      "text/plain": [
       "array([35.18897384, 35.18897384, 42.03293184, 62.56480583, 48.87688983,\n",
       "       28.34501584, 62.56480583, 96.78459583, 35.18897384, 42.03293184])"
      ]
     },
     "execution_count": 67,
     "metadata": {},
     "output_type": "execute_result"
    }
   ],
   "source": [
    "y_pred"
   ]
  },
  {
   "cell_type": "markdown",
   "metadata": {
    "id": "5Qu1o4JhZYwI"
   },
   "source": [
    "*2. В этом коде мы избавляемся от итераций по весам, но здесь есть ошибка, исправьте её.\n"
   ]
  },
  {
   "cell_type": "code",
   "execution_count": 110,
   "metadata": {
    "colab": {
     "base_uri": "https://localhost:8080/",
     "height": 185
    },
    "id": "WZZzDCQLY4pA",
    "outputId": "28f58ade-72f2-4381-809d-2417752d56e4",
    "scrolled": true
   },
   "outputs": [
    {
     "name": "stdout",
     "output_type": "stream",
     "text": [
      "Number of objects = 10        \n",
      "Learning rate = 0.01        \n",
      "Initial weights = [1.  0.5] \n",
      "\n",
      "Iteration #0: W_new = [2.08 4.27], MSE = 3047.75\n",
      "Iteration #10: W_new = [ 7.0011236 10.6169007], MSE = 738.65\n",
      "Iteration #20: W_new = [10.3486292  10.10603105], MSE = 622.03\n",
      "Iteration #30: W_new = [13.38789582  9.55618391], MSE = 525.24\n",
      "Iteration #40: W_new = [16.16088505  9.05336203], MSE = 444.66\n",
      "Iteration #50: W_new = [18.69110735  8.59454545], MSE = 377.58\n",
      "Iteration #60: W_new = [20.99981865  8.17589626], MSE = 321.72\n",
      "Iteration #70: W_new = [23.10641138  7.79389815], MSE = 275.22\n",
      "Iteration #80: W_new = [25.02858024  7.44534246], MSE = 236.5\n",
      "Iteration #90: W_new = [26.78247081  7.12730145], MSE = 204.27\n",
      "Iteration #100: W_new = [28.38281518  6.83710367], MSE = 177.43\n",
      "Iteration #110: W_new = [29.84305573  6.57231156], MSE = 155.08\n",
      "Iteration #120: W_new = [31.17545797  6.33070096], MSE = 136.48\n",
      "Iteration #130: W_new = [32.39121367  6.11024241], MSE = 120.99\n",
      "Iteration #140: W_new = [33.50053475  5.90908413], MSE = 108.09\n",
      "Iteration #150: W_new = [34.51273915  5.72553647], MSE = 97.36\n",
      "Iteration #160: W_new = [35.43632906  5.55805768], MSE = 88.42\n",
      "Iteration #170: W_new = [36.27906231  5.405241  ], MSE = 80.98\n",
      "Iteration #180: W_new = [37.0480176   5.26580281], MSE = 74.78\n",
      "Iteration #190: W_new = [37.74965389  5.13857189], MSE = 69.62\n",
      "Iteration #200: W_new = [38.38986469  5.02247953], MSE = 65.33\n",
      "Iteration #210: W_new = [38.97402756  4.9165506 ], MSE = 61.75\n",
      "Iteration #220: W_new = [39.50704928  4.81989533], MSE = 58.77\n",
      "Iteration #230: W_new = [39.99340705  4.73170185], MSE = 56.29\n",
      "Iteration #240: W_new = [40.43718613  4.65122936], MSE = 54.23\n",
      "Iteration #250: W_new = [40.84211409  4.57780191], MSE = 52.51\n",
      "Iteration #260: W_new = [41.21159221  4.51080275], MSE = 51.08\n",
      "Iteration #270: W_new = [41.54872398  4.4496691 ], MSE = 49.89\n",
      "Iteration #280: W_new = [41.8563412   4.39388747], MSE = 48.9\n",
      "Iteration #290: W_new = [42.13702774  4.34298929], MSE = 48.07\n",
      "Iteration #300: W_new = [42.39314129  4.29654705], MSE = 47.39\n",
      "Iteration #310: W_new = [42.6268331   4.25417064], MSE = 46.81\n",
      "Iteration #320: W_new = [42.84006612  4.21550412], MSE = 46.34\n",
      "Iteration #330: W_new = [43.03463143  4.1802227 ], MSE = 45.94\n",
      "Iteration #340: W_new = [43.21216332  4.14803003], MSE = 45.61\n",
      "Iteration #350: W_new = [43.37415299  4.1186557 ], MSE = 45.34\n",
      "Iteration #360: W_new = [43.5219611   4.09185298], MSE = 45.11\n",
      "Iteration #370: W_new = [43.6568292   4.06739673], MSE = 44.92\n",
      "Iteration #380: W_new = [43.77989013  4.04508153], MSE = 44.76\n",
      "Iteration #390: W_new = [43.89217756  4.02471993], MSE = 44.63\n",
      "Iteration #400: W_new = [43.99463466  4.00614091], MSE = 44.52\n",
      "Iteration #410: W_new = [44.08812206  3.98918842], MSE = 44.42\n",
      "Iteration #420: W_new = [44.173425    3.97372004], MSE = 44.35\n",
      "Iteration #430: W_new = [44.25126001  3.95960587], MSE = 44.28\n",
      "Iteration #440: W_new = [44.32228086  3.94672733], MSE = 44.23\n",
      "Iteration #450: W_new = [44.38708413  3.93497626], MSE = 44.19\n",
      "Iteration #460: W_new = [44.44621412  3.92425394], MSE = 44.15\n",
      "Iteration #470: W_new = [44.50016751  3.91447033], MSE = 44.12\n",
      "Iteration #480: W_new = [44.5493975   3.90554323], MSE = 44.1\n",
      "Iteration #490: W_new = [44.5943176   3.89739766], MSE = 44.07\n",
      "Iteration #500: W_new = [44.63530512  3.8899652 ], MSE = 44.06\n",
      "Iteration #510: W_new = [44.67270435  3.88318343], MSE = 44.04\n",
      "Iteration #520: W_new = [44.70682942  3.87699538], MSE = 44.03\n",
      "Iteration #530: W_new = [44.73796697  3.87134906], MSE = 44.02\n",
      "Iteration #540: W_new = [44.76637856  3.86619706], MSE = 44.01\n",
      "Iteration #550: W_new = [44.79230282  3.86149609], MSE = 44.0\n",
      "Iteration #560: W_new = [44.81595752  3.85720668], MSE = 44.0\n",
      "Iteration #570: W_new = [44.83754134  3.85329279], MSE = 43.99\n",
      "Iteration #580: W_new = [44.85723558  3.84972154], MSE = 43.99\n",
      "Iteration #590: W_new = [44.87520567  3.84646294], MSE = 43.99\n",
      "Iteration #600: W_new = [44.89160255  3.84348962], MSE = 43.98\n",
      "Iteration #610: W_new = [44.90656394  3.8407766 ], MSE = 43.98\n",
      "Iteration #620: W_new = [44.92021553  3.83830109], MSE = 43.98\n",
      "Iteration #630: W_new = [44.93267197  3.83604231], MSE = 43.98\n",
      "Iteration #640: W_new = [44.94403791  3.83398127], MSE = 43.98\n",
      "Iteration #650: W_new = [44.95440879  3.83210067], MSE = 43.97\n",
      "Iteration #660: W_new = [44.96387175  3.83038471], MSE = 43.97\n",
      "Iteration #670: W_new = [44.97250627  3.82881898], MSE = 43.97\n",
      "Iteration #680: W_new = [44.98038486  3.82739031], MSE = 43.97\n",
      "Iteration #690: W_new = [44.98757372  3.82608673], MSE = 43.97\n",
      "Iteration #700: W_new = [44.99413322  3.82489726], MSE = 43.97\n",
      "Iteration #710: W_new = [45.00011846  3.82381193], MSE = 43.97\n",
      "Iteration #720: W_new = [45.00557972  3.82282162], MSE = 43.97\n",
      "Iteration #730: W_new = [45.01056286  3.821918  ], MSE = 43.97\n",
      "Iteration #740: W_new = [45.01510975  3.82109349], MSE = 43.97\n",
      "Iteration #750: W_new = [45.01925858  3.82034116], MSE = 43.97\n",
      "Iteration #760: W_new = [45.0230442  3.8196547], MSE = 43.97\n",
      "Iteration #770: W_new = [45.0264984   3.81902834], MSE = 43.97\n",
      "Iteration #780: W_new = [45.0296502   3.81845681], MSE = 43.97\n",
      "Iteration #790: W_new = [45.03252607  3.81793531], MSE = 43.97\n",
      "Iteration #800: W_new = [45.03515017  3.81745947], MSE = 43.97\n",
      "Iteration #810: W_new = [45.03754454  3.81702529], MSE = 43.97\n",
      "Iteration #820: W_new = [45.03972929  3.81662912], MSE = 43.97\n",
      "Iteration #830: W_new = [45.04172277  3.81626763], MSE = 43.97\n",
      "Iteration #840: W_new = [45.04354174  3.81593779], MSE = 43.97\n",
      "Iteration #850: W_new = [45.04520146  3.81563682], MSE = 43.97\n",
      "Iteration #860: W_new = [45.04671588  3.81536221], MSE = 43.97\n",
      "Iteration #870: W_new = [45.04809772  3.81511163], MSE = 43.97\n",
      "Iteration #880: W_new = [45.04935858  3.81488299], MSE = 43.97\n",
      "Iteration #890: W_new = [45.05050906  3.81467437], MSE = 43.97\n",
      "Iteration #900: W_new = [45.05155882  3.81448401], MSE = 43.97\n",
      "Iteration #910: W_new = [45.05251668  3.81431032], MSE = 43.97\n",
      "Iteration #920: W_new = [45.05339068  3.81415184], MSE = 43.97\n",
      "Iteration #930: W_new = [45.05418816  3.81400722], MSE = 43.97\n",
      "Iteration #940: W_new = [45.05491583  3.81387527], MSE = 43.97\n",
      "Iteration #950: W_new = [45.05557979  3.81375487], MSE = 43.97\n",
      "Iteration #960: W_new = [45.05618563  3.81364501], MSE = 43.97\n",
      "Iteration #970: W_new = [45.05673843  3.81354477], MSE = 43.97\n",
      "Iteration #980: W_new = [45.05724283  3.81345331], MSE = 43.97\n",
      "Iteration #990: W_new = [45.05770308  3.81336985], MSE = 43.97\n"
     ]
    }
   ],
   "source": [
    "n = X.shape[1]\n",
    "alpha = 1e-2\n",
    "W = np.array([1, 0.5])\n",
    "print(f'Number of objects = {n} \\\n",
    "       \\nLearning rate = {alpha} \\\n",
    "       \\nInitial weights = {W} \\n')\n",
    "\n",
    "for i in range(1000):\n",
    "    y_pred = np.dot(W, X)\n",
    "    err = calc_mse(y, y_pred)\n",
    "#     for k in range(W.shape[0]):\n",
    "#         W[k] -= alpha * (1/n * 2 * np.sum(X[k] * (y_pred - y)))\n",
    "    # ИЗМЕНЕНИЯ\n",
    "    W -= alpha * (1/n * 2 * np.dot(X, y_pred - y))\n",
    "    if i % 10 == 0:\n",
    "        print(f'Iteration #{i}: W_new = {W}, MSE = {round(err,2)}')"
   ]
  },
  {
   "cell_type": "markdown",
   "metadata": {
    "id": "dNd19yVmBjaR"
   },
   "source": [
    "*3. Вместо того чтобы задавать количество итераций, задайте условие остановки алгоритма, когда ошибка за итерацию начинает изменяться ниже определённого порога — упрощённый аналог параметра tol в линейной регрессии в sklearn."
   ]
  },
  {
   "cell_type": "code",
   "execution_count": 90,
   "metadata": {
    "id": "VjV39BwKBjaR"
   },
   "outputs": [
    {
     "name": "stdout",
     "output_type": "stream",
     "text": [
      "Iter 0: error - 3047.75, weights: [2.08 4.27]\n",
      "Iter 1: error - 1777.0353, weights: [2.9122 6.6934]\n",
      "Iter 2: error - 1233.1246862399998, weights: [3.582352 8.242912]\n",
      "Iter 3: error - 995.6119136616959, weights: [4.14613024 9.2253808 ]\n",
      "Iter 4: error - 887.3532060945618, weights: [4.63968479 9.83998351]\n",
      "Iter 5: error - 833.705103731704, weights: [ 5.08649208 10.21600803]\n",
      "Iter 6: error - 803.2133893510011, weights: [ 5.50180176 10.43737578]\n",
      "Iter 7: error - 782.6219704436712, weights: [ 5.89552318 10.55855991]\n",
      "Iter 8: error - 766.3427039405008, weights: [ 6.27409912 10.61491815]\n",
      "Iter 9: error - 752.0184356756685, weights: [ 6.64172205 10.62940003]\n",
      "Iter 10: error - 738.6534565814403, weights: [ 7.0011236 10.6169007]\n",
      "Iter 11: error - 725.8257570810141, weights: [ 7.35408709 10.58708704]\n",
      "Iter 12: error - 713.3551043907684, weights: [ 7.70178013 10.54623222]\n",
      "Iter 13: error - 701.1631838639862, weights: [ 8.04497059 10.49840646]\n",
      "Iter 14: error - 689.2146678156332, weights: [ 8.38416679 10.44625003]\n",
      "Iter 15: error - 677.4923836960982, weights: [ 8.71970845 10.39147501]\n",
      "Iter 16: error - 665.9868502675104, weights: [ 9.05182578 10.335191  ]\n",
      "Iter 17: error - 654.6918678478203, weights: [ 9.38067781 10.27811651]\n",
      "Iter 18: error - 643.6026594904469, weights: [ 9.70637726 10.22071623]\n",
      "Iter 19: error - 632.7150870310963, weights: [10.02900674 10.16329008]\n",
      "Iter 20: error - 622.0253200502414, weights: [10.3486292  10.10603105]\n",
      "Iter 21: error - 611.5296956875911, weights: [10.66529475 10.04906274]\n",
      "Iter 22: error - 601.2246588860459, weights: [10.9790451   9.99246372]\n",
      "Iter 23: error - 591.1067365376418, weights: [11.28991637  9.93628335]\n",
      "Iter 24: error - 581.1725259265907, weights: [11.59794104  9.88055203]\n",
      "Iter 25: error - 571.4186892085335, weights: [11.9031491   9.82528788]\n",
      "Iter 26: error - 561.8419504450218, weights: [12.20556884  9.77050105]\n",
      "Iter 27: error - 552.4390937262636, weights: [12.5052274   9.71619656]\n",
      "Iter 28: error - 543.2069617638169, weights: [12.80215106  9.66237609]\n",
      "Iter 29: error - 534.1424546924876, weights: [13.09636548  9.60903915]\n",
      "Iter 30: error - 525.2425289713663, weights: [13.38789582  9.55618391]\n",
      "Iter 31: error - 516.5041963374218, weights: [13.67676687  9.50380763]\n",
      "Iter 32: error - 507.92452279183516, weights: [13.96300307  9.45190703]\n",
      "Iter 33: error - 499.5006276105266, weights: [14.24662859  9.40047845]\n",
      "Iter 34: error - 491.22968237508655, weights: [14.52766731  9.34951806]\n",
      "Iter 35: error - 483.1089100223302, weights: [14.80614288  9.29902188]\n",
      "Iter 36: error - 475.1355839115425, weights: [15.08207871  9.24898587]\n",
      "Iter 37: error - 467.30702690883993, weights: [15.35549798  9.19940595]\n",
      "Iter 38: error - 459.6206104882355, weights: [15.62642367  9.15027805]\n",
      "Iter 39: error - 452.07375384905697, weights: [15.89487851  9.10159809]\n",
      "Iter 40: error - 444.6639230494043, weights: [16.16088505  9.05336203]\n",
      "Iter 41: error - 437.38863015534537, weights: [16.42446563  9.00556584]\n",
      "Iter 42: error - 430.24543240556204, weights: [16.68564237  8.95820551]\n",
      "Iter 43: error - 423.2319313911662, weights: [16.94443719  8.9112771 ]\n",
      "Iter 44: error - 416.3457722504052, weights: [17.20087182  8.86477665]\n",
      "Iter 45: error - 409.58464287799114, weights: [17.45496778  8.81870028]\n",
      "Iter 46: error - 402.94627314878574, weights: [17.70674641  8.77304412]\n",
      "Iter 47: error - 396.4284341555796, weights: [17.95622884  8.72780433]\n",
      "Iter 48: error - 390.0289374607122, weights: [18.203436    8.68297713]\n",
      "Iter 49: error - 383.7456343612789, weights: [18.44838865  8.63855875]\n",
      "Iter 50: error - 377.57641516768024, weights: [18.69110735  8.59454545]\n",
      "Iter 51: error - 371.5192084952694, weights: [18.93161248  8.55093356]\n",
      "Iter 52: error - 365.5719805688621, weights: [19.16992422  8.5077194 ]\n",
      "Iter 53: error - 359.7327345398733, weights: [19.40606257  8.46489935]\n",
      "Iter 54: error - 353.9995098158534, weights: [19.64004736  8.42246982]\n",
      "Iter 55: error - 348.3703814021962, weights: [19.87189822  8.38042724]\n",
      "Iter 56: error - 342.8434592558019, weights: [20.10163462  8.33876808]\n",
      "Iter 57: error - 337.41688765047275, weights: [20.32927584  8.29748886]\n",
      "Iter 58: error - 332.0888445538323, weights: [20.55484099  8.2565861 ]\n",
      "Iter 59: error - 326.857541015558, weights: [20.77834901  8.21605636]\n",
      "Iter 60: error - 321.72122056672055, weights: [20.99981865  8.17589626]\n",
      "Iter 61: error - 316.67815863003, weights: [21.2192685   8.13610241]\n",
      "Iter 62: error - 311.7266619407895, weights: [21.43671698  8.09667148]\n",
      "Iter 63: error - 306.86506797836256, weights: [21.65218236  8.05760016]\n",
      "Iter 64: error - 302.09174440796323, weights: [21.8656827   8.01888516]\n",
      "Iter 65: error - 297.4050885325812, weights: [22.07723593  7.98052325]\n",
      "Iter 66: error - 292.80352675485847, weights: [22.28685982  7.94251119]\n",
      "Iter 67: error - 288.28551404873616, weights: [22.49457195  7.90484579]\n",
      "Iter 68: error - 283.8495334406946, weights: [22.70038977  7.86752391]\n",
      "Iter 69: error - 279.4940955004128, weights: [22.90433054  7.83054239]\n",
      "Iter 70: error - 275.21773784067534, weights: [23.10641138  7.79389815]\n",
      "Iter 71: error - 271.0190246263588, weights: [23.30664927  7.75758809]\n",
      "Iter 72: error - 266.89654609233526, weights: [23.505061    7.72160919]\n",
      "Iter 73: error - 262.84891807012656, weights: [23.70166322  7.6859584 ]\n",
      "Iter 74: error - 258.87478152315487, weights: [23.89647246  7.65063275]\n",
      "Iter 75: error - 254.97280209043066, weights: [24.08950504  7.61562927]\n",
      "Iter 76: error - 251.14166963852648, weights: [24.28077718  7.58094502]\n",
      "Iter 77: error - 247.3800978216842, weights: [24.47030494  7.54657708]\n",
      "Iter 78: error - 243.6868236499103, weights: [24.65810422  7.51252258]\n",
      "Iter 79: error - 240.06060706491297, weights: [24.84419078  7.47877865]\n",
      "Iter 80: error - 236.5002305237384, weights: [25.02858024  7.44534246]\n",
      "Iter 81: error - 233.00449858996708, weights: [25.21128809  7.41221121]\n",
      "Iter 82: error - 229.57223753233285, weights: [25.39232966  7.37938211]\n",
      "Iter 83: error - 226.20229493062885, weights: [25.57172014  7.34685241]\n",
      "Iter 84: error - 222.89353928877009, weights: [25.74947459  7.31461939]\n",
      "Iter 85: error - 219.64485965488066, weights: [25.92560793  7.28268032]\n",
      "Iter 86: error - 216.45516524827917, weights: [26.10013496  7.25103253]\n",
      "Iter 87: error - 213.323385093237, weights: [26.27307031  7.21967338]\n",
      "Iter 88: error - 210.24846765938588, weights: [26.4444285   7.18860021]\n",
      "Iter 89: error - 207.22938050865514, weights: [26.61422391  7.15781043]\n",
      "Iter 90: error - 204.2651099486187, weights: [26.78247081  7.12730145]\n",
      "Iter 91: error - 201.35466069213686, weights: [26.94918331  7.09707071]\n",
      "Iter 92: error - 198.4970555231768, weights: [27.1143754   7.06711567]\n",
      "Iter 93: error - 195.69133496870194, weights: [27.27806095  7.03743382]\n",
      "Iter 94: error - 192.93655697651783, weights: [27.4402537   7.00802266]\n",
      "Iter 95: error - 190.2317965989676, weights: [27.60096727  6.97887973]\n",
      "Iter 96: error - 187.5761456823704, weights: [27.76021514  6.95000259]\n",
      "Iter 97: error - 184.9687125620985, weights: [27.91801068  6.9213888 ]\n",
      "Iter 98: error - 182.4086217631909, weights: [28.07436714  6.89303597]\n",
      "Iter 99: error - 179.89501370640292, weights: [28.22929764  6.86494171]\n",
      "Iter 100: error - 177.42704441959268, weights: [28.38281518  6.83710367]\n",
      "Iter 101: error - 175.0038852543481, weights: [28.53493266  6.80951951]\n",
      "Iter 102: error - 172.62472260775854, weights: [28.68566284  6.78218692]\n",
      "Iter 103: error - 170.28875764923896, weights: [28.83501836  6.7551036 ]\n",
      "Iter 104: error - 167.9952060523134, weights: [28.98301178  6.72826727]\n",
      "Iter 105: error - 165.7432977312683, weights: [29.12965551  6.70167569]\n",
      "Iter 106: error - 163.5322765825878, weights: [29.27496186  6.67532663]\n",
      "Iter 107: error - 161.36140023108368, weights: [29.41894302  6.64921786]\n",
      "Iter 108: error - 159.22993978063417, weights: [29.56161109  6.62334721]\n",
      "Iter 109: error - 157.13717956944907, weights: [29.70297804  6.59771249]\n",
      "Iter 110: error - 155.08241692977833, weights: [29.84305573  6.57231156]\n",
      "Iter 111: error - 153.06496195198343, weights: [29.98185592  6.54714229]\n",
      "Iter 112: error - 151.08413725289213, weights: [30.11939026  6.52220255]\n",
      "Iter 113: error - 149.13927774836014, weights: [30.2556703   6.49749027]\n",
      "Iter 114: error - 147.22973042996102, weights: [30.39070748  6.47300336]\n",
      "Iter 115: error - 145.35485414573154, weights: [30.52451313  6.44873977]\n",
      "Iter 116: error - 143.51401938489772, weights: [30.65709848  6.42469746]\n",
      "Iter 117: error - 141.70660806650955, weights: [30.78847466  6.40087441]\n",
      "Iter 118: error - 139.93201333191297, weights: [30.91865271  6.37726863]\n",
      "Iter 119: error - 138.189639340991, weights: [31.04764353  6.35387814]\n",
      "Iter 120: error - 136.47890107210296, weights: [31.17545797  6.33070096]\n",
      "Iter 121: error - 134.79922412565742, weights: [31.30210676  6.30773515]\n",
      "Iter 122: error - 133.15004453125087, weights: [31.42760051  6.2849788 ]\n",
      "Iter 123: error - 131.5308085583081, weights: [31.55194978  6.26242997]\n",
      "Iter 124: error - 129.9409725301616, weights: [31.67516498  6.2400868 ]\n",
      "Iter 125: error - 128.3800026415053, weights: [31.79725647  6.21794739]\n",
      "Iter 126: error - 126.84737477916379, weights: [31.9182345   6.19600989]\n",
      "Iter 127: error - 125.34257434611546, weights: [32.03810922  6.17427246]\n",
      "Iter 128: error - 123.86509608871049, weights: [32.15689069  6.15273327]\n",
      "Iter 129: error - 122.41444392702674, weights: [32.27458888  6.13139052]\n",
      "Iter 130: error - 120.99013078830471, weights: [32.39121367  6.11024241]\n",
      "Iter 131: error - 119.59167844340814, weights: [32.50677485  6.08928717]\n",
      "Iter 132: error - 118.2186173462525, weights: [32.62128212  6.06852304]\n",
      "Iter 133: error - 116.87048647615006, weights: [32.7347451   6.04794828]\n",
      "Iter 134: error - 115.54683318301693, weights: [32.8471733   6.02756116]\n",
      "Iter 135: error - 114.24721303539044, weights: [32.95857616  6.00735997]\n",
      "Iter 136: error - 112.97118967120676, weights: [33.06896304  5.98734301]\n",
      "Iter 137: error - 111.71833465128691, weights: [33.1783432  5.9675086]\n",
      "Iter 138: error - 110.48822731548401, weights: [33.28672582  5.94785509]\n",
      "Iter 139: error - 109.28045464144161, weights: [33.39412     5.92838081]\n",
      "Iter 140: error - 108.09461110591664, weights: [33.50053475  5.90908413]\n",
      "Iter 141: error - 106.93029854862084, weights: [33.60597901  5.88996344]\n",
      "Iter 142: error - 105.78712603853378, weights: [33.71046162  5.87101713]\n",
      "Iter 143: error - 104.66470974264317, weights: [33.81399136  5.85224361]\n",
      "Iter 144: error - 103.56267279706898, weights: [33.91657692  5.8336413 ]\n",
      "Iter 145: error - 102.48064518052692, weights: [34.0182269   5.81520864]\n",
      "Iter 146: error - 101.41826359008971, weights: [34.11894984  5.79694409]\n",
      "Iter 147: error - 100.37517131920393, weights: [34.2187542   5.77884611]\n",
      "Iter 148: error - 99.35101813792201, weights: [34.31764835  5.76091318]\n",
      "Iter 149: error - 98.34546017530847, weights: [34.41564059  5.7431438 ]\n",
      "Iter 150: error - 97.35815980398137, weights: [34.51273915  5.72553647]\n",
      "Iter 151: error - 96.38878552675, weights: [34.60895218  5.70808972]\n",
      "Iter 152: error - 95.43701186531135, weights: [34.70428776  5.69080209]\n",
      "Iter 153: error - 94.50251925096676, weights: [34.79875388  5.67367211]\n",
      "Iter 154: error - 93.5849939173232, weights: [34.89235847  5.65669836]\n",
      "Iter 155: error - 92.68412779494277, weights: [34.9851094   5.63987941]\n",
      "Iter 156: error - 91.7996184079051, weights: [35.07701445  5.62321385]\n",
      "Iter 157: error - 90.93116877224722, weights: [35.16808133  5.60670027]\n",
      "Iter 158: error - 90.07848729624807, weights: [35.25831768  5.5903373 ]\n",
      "Iter 159: error - 89.2412876825235, weights: [35.34773109  5.57412356]\n",
      "Iter 160: error - 88.41928883189844, weights: [35.43632906  5.55805768]\n",
      "Iter 161: error - 87.61221474902479, weights: [35.52411902  5.54213833]\n",
      "Iter 162: error - 86.81979444971287, weights: [35.61110834  5.52636415]\n",
      "Iter 163: error - 86.0417618699455, weights: [35.69730432  5.51073384]\n",
      "Iter 164: error - 85.27785577654394, weights: [35.7827142   5.49524608]\n",
      "Iter 165: error - 84.52781967945589, weights: [35.86734515  5.47989956]\n",
      "Iter 166: error - 83.79140174563624, weights: [35.95120428  5.464693  ]\n",
      "Iter 167: error - 83.06835471449116, weights: [36.03429861  5.44962512]\n",
      "Iter 168: error - 82.3584358148573, weights: [36.11663513  5.43469466]\n",
      "Iter 169: error - 81.66140668348937, weights: [36.19822075  5.41990037]\n",
      "Iter 170: error - 80.97703328502634, weights: [36.27906231  5.405241  ]\n",
      "Iter 171: error - 80.30508583341172, weights: [36.35916661  5.39071532]\n",
      "Iter 172: error - 79.64533871474022, weights: [36.43854036  5.37632212]\n",
      "Iter 173: error - 78.99757041150545, weights: [36.51719022  5.36206017]\n",
      "Iter 174: error - 78.36156342822282, weights: [36.59512281  5.3479283 ]\n",
      "Iter 175: error - 77.7371042184031, weights: [36.67234465  5.33392531]\n",
      "Iter 176: error - 77.12398311285168, weights: [36.74886224  5.32005003]\n",
      "Iter 177: error - 76.52199424926978, weights: [36.82468199  5.30630128]\n",
      "Iter 178: error - 75.93093550313397, weights: [36.89981028  5.29267793]\n",
      "Iter 179: error - 75.35060841983059, weights: [36.9742534   5.27917882]\n",
      "Iter 180: error - 74.78081814802219, weights: [37.0480176   5.26580281]\n",
      "Iter 181: error - 74.2213733742243, weights: [37.12110908  5.2525488 ]\n",
      "Iter 182: error - 73.67208625856952, weights: [37.19353397  5.23941566]\n",
      "Iter 183: error - 73.1327723717383, weights: [37.26529835  5.2264023 ]\n",
      "Iter 184: error - 72.60325063303469, weights: [37.33640824  5.21350762]\n",
      "Iter 185: error - 72.08334324958653, weights: [37.40686962  5.20073053]\n",
      "Iter 186: error - 71.57287565664942, weights: [37.4766884   5.18806997]\n",
      "Iter 187: error - 71.07167645899465, weights: [37.54587043  5.17552488]\n",
      "Iter 188: error - 70.5795773733613, weights: [37.61442153  5.16309419]\n",
      "Iter 189: error - 70.09641317195337, weights: [37.68234745  5.15077688]\n",
      "Iter 190: error - 69.62202162696259, weights: [37.74965389  5.13857189]\n",
      "Iter 191: error - 69.15624345609865, weights: [37.8163465   5.12647822]\n",
      "Iter 192: error - 68.69892226910824, weights: [37.88243087  5.11449483]\n",
      "Iter 193: error - 68.24990451526551, weights: [37.94791257  5.10262074]\n",
      "Iter 194: error - 67.80903943181552, weights: [38.01279707  5.09085493]\n",
      "Iter 195: error - 67.37617899335403, weights: [38.07708983  5.07919643]\n",
      "Iter 196: error - 66.95117786212622, weights: [38.14079625  5.06764425]\n",
      "Iter 197: error - 66.53389333922806, weights: [38.20392167  5.05619743]\n",
      "Iter 198: error - 66.12418531669327, weights: [38.26647139  5.04485501]\n",
      "Iter 199: error - 65.72191623045094, weights: [38.32845066  5.03361602]\n",
      "Iter 200: error - 65.3269510141364, weights: [38.38986469  5.02247953]\n",
      "Iter 201: error - 64.93915705374133, weights: [38.45071862  5.01144461]\n",
      "Iter 202: error - 64.55840414308726, weights: [38.51101757  5.00051033]\n",
      "Iter 203: error - 64.18456444010727, weights: [38.5707666   4.98967576]\n",
      "Iter 204: error - 63.81751242392146, weights: [38.62997072  4.97894001]\n",
      "Iter 205: error - 63.4571248526921, weights: [38.68863491  4.96830216]\n",
      "Iter 206: error - 63.103280722243724, weights: [38.74676408  4.95776133]\n",
      "Iter 207: error - 62.75586122543459, weights: [38.80436312  4.94731663]\n",
      "Iter 208: error - 62.41474971226587, weights: [38.86143686  4.93696719]\n",
      "Iter 209: error - 62.07983165071513, weights: [38.91799009  4.92671213]\n",
      "Iter 210: error - 61.75099458828087, weights: [38.97402756  4.9165506 ]\n",
      "Iter 211: error - 61.42812811422537, weights: [39.02955397  4.90648174]\n",
      "Iter 212: error - 61.11112382250302, weights: [39.08457399  4.89650471]\n",
      "Iter 213: error - 60.799875275361764, weights: [39.13909223  4.88661867]\n",
      "Iter 214: error - 60.494277967605456, weights: [39.19311326  4.87682279]\n",
      "Iter 215: error - 60.194229291505124, weights: [39.24664163  4.86711625]\n",
      "Iter 216: error - 59.899628502347056, weights: [39.29968182  4.85749822]\n",
      "Iter 217: error - 59.61037668460697, weights: [39.35223829  4.84796792]\n",
      "Iter 218: error - 59.326376718737684, weights: [39.40431545  4.83852453]\n",
      "Iter 219: error - 59.0475332485603, weights: [39.45591767  4.82916726]\n",
      "Iter 220: error - 58.773752649247285, weights: [39.50704928  4.81989533]\n",
      "Iter 221: error - 58.50494299588695, weights: [39.55771458  4.81070796]\n",
      "Iter 222: error - 58.24101403261841, weights: [39.60791781  4.80160438]\n",
      "Iter 223: error - 57.981877142327406, weights: [39.65766319  4.79258382]\n",
      "Iter 224: error - 57.72744531689206, weights: [39.70695489  4.78364553]\n",
      "Iter 225: error - 57.47763312796868, weights: [39.75579706  4.77478876]\n",
      "Iter 226: error - 57.23235669830865, weights: [39.8041938   4.76601276]\n",
      "Iter 227: error - 56.991533673595335, weights: [39.85214916  4.75731679]\n",
      "Iter 228: error - 56.755083194792896, weights: [39.89966717  4.74870013]\n",
      "Iter 229: error - 56.52292587099687, weights: [39.94675181  4.74016206]\n",
      "Iter 230: error - 56.29498375277784, weights: [39.99340705  4.73170185]\n",
      "Iter 231: error - 56.071180306009026, weights: [40.0396368  4.7233188]\n",
      "Iter 232: error - 55.85144038616903, weights: [40.08544494  4.7150122 ]\n",
      "Iter 233: error - 55.635690213111346, weights: [40.13083531  4.70678135]\n",
      "Iter 234: error - 55.42385734629172, weights: [40.17581172  4.69862558]\n",
      "Iter 235: error - 55.21587066044543, weights: [40.22037795  4.69054418]\n",
      "Iter 236: error - 55.011660321706316, weights: [40.26453774  4.68253648]\n",
      "Iter 237: error - 54.81115776415909, weights: [40.3082948   4.67460181]\n",
      "Iter 238: error - 54.614295666817746, weights: [40.35165279  4.66673951]\n",
      "Iter 239: error - 54.421007931021585, weights: [40.39461537  4.65894891]\n",
      "Iter 240: error - 54.231229658242036, weights: [40.43718613  4.65122936]\n",
      "Iter 241: error - 54.0448971282921, weights: [40.47936864  4.64358021]\n",
      "Iter 242: error - 53.861947777931675, weights: [40.52116646  4.63600082]\n",
      "Iter 243: error - 53.68232017986122, weights: [40.56258308  4.62849055]\n",
      "Iter 244: error - 53.50595402209675, weights: [40.60362198  4.62104878]\n",
      "Iter 245: error - 53.332790087719694, weights: [40.64428662  4.61367488]\n",
      "Iter 246: error - 53.16277023499373, weights: [40.68458039  4.60636822]\n",
      "Iter 247: error - 52.995837377843394, weights: [40.72450669  4.5991282 ]\n",
      "Iter 248: error - 52.831935466686744, weights: [40.76406887  4.59195421]\n",
      "Iter 249: error - 52.671009469615726, weights: [40.80327023  4.58484565]\n",
      "Iter 250: error - 52.51300535391918, weights: [40.84211409  4.57780191]\n",
      "Iter 251: error - 52.35787006794029, weights: [40.88060369  4.57082242]\n",
      "Iter 252: error - 52.205551523264056, weights: [40.91874228  4.56390657]\n",
      "Iter 253: error - 52.055998577228, weights: [40.95653304  4.5570538 ]\n",
      "Iter 254: error - 51.90916101575046, weights: [40.99397915  4.55026353]\n",
      "Iter 255: error - 51.764989536470715, weights: [41.03108375  4.54353518]\n",
      "Iter 256: error - 51.62343573219501, weights: [41.06784997  4.53686819]\n",
      "Iter 257: error - 51.4844520746434, weights: [41.10428088  4.53026201]\n",
      "Iter 258: error - 51.34799189849158, weights: [41.14037954  4.52371607]\n",
      "Iter 259: error - 51.21400938570245, weights: [41.17614898  4.51722984]\n",
      "Iter 260: error - 51.08245955014226, weights: [41.21159221  4.51080275]\n",
      "Iter 261: error - 50.953298222475965, weights: [41.2467122   4.50443428]\n",
      "Iter 262: error - 50.826482035336824, weights: [41.2815119  4.4981239]\n",
      "Iter 263: error - 50.70196840876542, weights: [41.31599423  4.49187106]\n",
      "Iter 264: error - 50.579715535912875, weights: [41.35016208  4.48567524]\n",
      "Iter 265: error - 50.45968236900383, weights: [41.38401833  4.47953594]\n",
      "Iter 266: error - 50.341828605554085, weights: [41.4175658   4.47345262]\n",
      "Iter 267: error - 50.22611467483863, weights: [41.45080733  4.46742478]\n",
      "Iter 268: error - 50.112501724605316, weights: [41.4837457   4.46145191]\n",
      "Iter 269: error - 50.000951608029894, weights: [41.51638367  4.45553352]\n",
      "Iter 270: error - 49.89142687090755, weights: [41.54872398  4.4496691 ]\n",
      "Iter 271: error - 49.78389073907747, weights: [41.58076936  4.44385817]\n",
      "Iter 272: error - 49.67830710607537, weights: [41.61252248  4.43810023]\n",
      "Iter 273: error - 49.57464052101041, weights: [41.64398602  4.4323948 ]\n",
      "Iter 274: error - 49.47285617666209, weights: [41.67516261  4.42674141]\n",
      "Iter 275: error - 49.37291989779337, weights: [41.70605487  4.42113957]\n",
      "Iter 276: error - 49.27479812967603, weights: [41.7366654   4.41558883]\n",
      "Iter 277: error - 49.178457926824116, weights: [41.76699676  4.4100887 ]\n",
      "Iter 278: error - 49.0838669419323, weights: [41.7970515   4.40463874]\n",
      "Iter 279: error - 48.99099341501479, weights: [41.82683215  4.39923848]\n",
      "Iter 280: error - 48.89980616274164, weights: [41.8563412   4.39388747]\n",
      "Iter 281: error - 48.81027456796854, weights: [41.88558113  4.38858526]\n",
      "Iter 282: error - 48.72236856945679, weights: [41.91455439  4.3833314 ]\n",
      "Iter 283: error - 48.63605865177989, weights: [41.94326342  4.37812546]\n",
      "Iter 284: error - 48.55131583541338, weights: [41.97171062  4.372967  ]\n",
      "Iter 285: error - 48.46811166700472, weights: [41.99989839  4.36785558]\n",
      "Iter 286: error - 48.386418209819695, weights: [42.02782909  4.36279078]\n",
      "Iter 287: error - 48.30620803436235, weights: [42.05550506  4.35777217]\n",
      "Iter 288: error - 48.22745420916522, weights: [42.08292863  4.35279933]\n",
      "Iter 289: error - 48.1501302917468, weights: [42.11010209  4.34787184]\n",
      "Iter 290: error - 48.07421031973318, weights: [42.13702774  4.34298929]\n",
      "Iter 291: error - 47.999668802140945, weights: [42.16370783  4.33815127]\n",
      "Iter 292: error - 47.926480710818154, weights: [42.1901446   4.33335737]\n",
      "Iter 293: error - 47.85462147204099, weights: [42.21634026  4.32860719]\n",
      "Iter 294: error - 47.78406695826281, weights: [42.24229703  4.32390033]\n",
      "Iter 295: error - 47.71479348001305, weights: [42.26801707  4.31923639]\n",
      "Iter 296: error - 47.64677777794316, weights: [42.29350254  4.314615  ]\n",
      "Iter 297: error - 47.57999701501711, weights: [42.31875559  4.31003574]\n",
      "Iter 298: error - 47.514428768843615, weights: [42.34377833  4.30549826]\n",
      "Iter 299: error - 47.45005102414739, weights: [42.36857287  4.30100215]\n",
      "Iter 300: error - 47.386842165377494, weights: [42.39314129  4.29654705]\n",
      "Iter 301: error - 47.32478096944952, weights: [42.41748564  4.29213257]\n",
      "Iter 302: error - 47.26384659861981, weights: [42.44160797  4.28775836]\n",
      "Iter 303: error - 47.2040185934888, weights: [42.46551031  4.28342404]\n",
      "Iter 304: error - 47.14527686613168, weights: [42.48919466  4.27912925]\n",
      "Iter 305: error - 47.08760169335365, weights: [42.51266301  4.27487362]\n",
      "Iter 306: error - 47.03097371006753, weights: [42.53591734  4.27065681]\n",
      "Iter 307: error - 46.975373902791766, weights: [42.55895958  4.26647846]\n",
      "Iter 308: error - 46.92078360326653, weights: [42.58179168  4.26233821]\n",
      "Iter 309: error - 46.867184482185465, weights: [42.60441555  4.25823571]\n",
      "Iter 310: error - 46.81455854304161, weights: [42.6268331   4.25417064]\n",
      "Iter 311: error - 46.76288811608468, weights: [42.6490462   4.25014264]\n",
      "Iter 312: error - 46.71215585238842, weights: [42.67105672  4.24615137]\n",
      "Iter 313: error - 46.66234471802534, weights: [42.6928665  4.2421965]\n",
      "Iter 314: error - 46.61343798834756, weights: [42.71447738  4.2382777 ]\n",
      "Iter 315: error - 46.56541924237116, weights: [42.73589117  4.23439464]\n",
      "Iter 316: error - 46.518272357262795, weights: [42.75710967  4.23054699]\n",
      "Iter 317: error - 46.47198150292612, weights: [42.77813466  4.22673443]\n",
      "Iter 318: error - 46.42653113668681, weights: [42.7989679   4.22295665]\n",
      "Iter 319: error - 46.38190599807382, weights: [42.81961114  4.21921331]\n",
      "Iter 320: error - 46.33809110369556, weights: [42.84006612  4.21550412]\n",
      "Iter 321: error - 46.29507174220903, weights: [42.86033455  4.21182875]\n",
      "Iter 322: error - 46.25283346938036, weights: [42.88041813  4.2081869 ]\n",
      "Iter 323: error - 46.211362103235, weights: [42.90031856  4.20457827]\n",
      "Iter 324: error - 46.170643719295846, weights: [42.92003749  4.20100254]\n",
      "Iter 325: error - 46.13066464590808, weights: [42.93957659  4.19745943]\n",
      "Iter 326: error - 46.091411459648725, weights: [42.95893749  4.19394863]\n",
      "Iter 327: error - 46.05287098081952, weights: [42.97812182  4.19046984]\n",
      "Iter 328: error - 46.01503026902176, weights: [42.9971312   4.18702279]\n",
      "Iter 329: error - 45.97787661881138, weights: [43.0159672   4.18360717]\n",
      "Iter 330: error - 45.94139755543294, weights: [43.03463143  4.1802227 ]\n",
      "Iter 331: error - 45.905580830631116, weights: [43.05312544  4.1768691 ]\n",
      "Iter 332: error - 45.87041441853825, weights: [43.07145079  4.17354608]\n",
      "Iter 333: error - 45.83588651163641, weights: [43.08960901  4.17025336]\n",
      "Iter 334: error - 45.801985516792946, weights: [43.10760162  4.16699068]\n",
      "Iter 335: error - 45.76870005136804, weights: [43.12543015  4.16375775]\n",
      "Iter 336: error - 45.73601893939279, weights: [43.14309608  4.16055431]\n",
      "Iter 337: error - 45.70393120781667, weights: [43.1606009   4.15738008]\n",
      "Iter 338: error - 45.67242608282338, weights: [43.17794608  4.1542348 ]\n",
      "Iter 339: error - 45.64149298621326, weights: [43.19513307  4.1511182 ]\n",
      "Iter 340: error - 45.61112153185165, weights: [43.21216332  4.14803003]\n",
      "Iter 341: error - 45.581301522181604, weights: [43.22903825  4.14497002]\n",
      "Iter 342: error - 45.552022944799816, weights: [43.24575928  4.14193792]\n",
      "Iter 343: error - 45.52327596909509, weights: [43.26232782  4.13893347]\n",
      "Iter 344: error - 45.49505094294735, weights: [43.27874526  4.13595642]\n",
      "Iter 345: error - 45.46733838948704, weights: [43.29501297  4.13300652]\n",
      "Iter 346: error - 45.44012900391303, weights: [43.31113232  4.13008353]\n",
      "Iter 347: error - 45.41341365036841, weights: [43.32710466  4.12718719]\n",
      "Iter 348: error - 45.38718335887315, weights: [43.34293133  4.12431726]\n",
      "Iter 349: error - 45.36142932231222, weights: [43.35861367  4.12147351]\n",
      "Iter 350: error - 45.33614289347853, weights: [43.37415299  4.1186557 ]\n",
      "Iter 351: error - 45.31131558216953, weights: [43.38955058  4.11586358]\n",
      "Iter 352: error - 45.286939052336564, weights: [43.40480776  4.11309693]\n",
      "Iter 353: error - 45.263005119285914, weights: [43.41992579  4.11035551]\n",
      "Iter 354: error - 45.23950574693065, weights: [43.43490594  4.10763909]\n",
      "Iter 355: error - 45.21643304509256, weights: [43.44974948  4.10494744]\n",
      "Iter 356: error - 45.193779266852815, weights: [43.46445764  4.10228034]\n",
      "Iter 357: error - 45.17153680595088, weights: [43.47903167  4.09963757]\n",
      "Iter 358: error - 45.14969819423063, weights: [43.49347278  4.09701889]\n",
      "Iter 359: error - 45.12825609913287, weights: [43.50778219  4.0944241 ]\n",
      "Iter 360: error - 45.10720332123331, weights: [43.5219611   4.09185298]\n",
      "Iter 361: error - 45.08653279182524, weights: [43.5360107  4.0893053]\n",
      "Iter 362: error - 45.06623757054624, weights: [43.54993217  4.08678086]\n",
      "Iter 363: error - 45.046310843047756, weights: [43.56372667  4.08427943]\n",
      "Iter 364: error - 45.02674591870719, weights: [43.57739537  4.08180083]\n",
      "Iter 365: error - 45.00753622838141, weights: [43.59093942  4.07934482]\n",
      "Iter 366: error - 44.988675322201104, weights: [43.60435994  4.07691122]\n",
      "Iter 367: error - 44.97015686740512, weights: [43.61765807  4.07449981]\n",
      "Iter 368: error - 44.95197464621427, weights: [43.63083492  4.07211039]\n",
      "Iter 369: error - 44.934122553743514, weights: [43.6438916   4.06974276]\n",
      "Iter 370: error - 44.91659459595227, weights: [43.6568292   4.06739673]\n",
      "Iter 371: error - 44.89938488763179, weights: [43.66964881  4.06507209]\n",
      "Iter 372: error - 44.8824876504292, weights: [43.68235151  4.06276865]\n",
      "Iter 373: error - 44.86589721090729, weights: [43.69493836  4.06048622]\n",
      "Iter 374: error - 44.8496079986396, weights: [43.70741042  4.0582246 ]\n",
      "Iter 375: error - 44.83361454434015, weights: [43.71976874  4.05598361]\n",
      "Iter 376: error - 44.817911478026986, weights: [43.73201434  4.05376306]\n",
      "Iter 377: error - 44.80249352721918, weights: [43.74414827  4.05156276]\n",
      "Iter 378: error - 44.78735551516659, weights: [43.75617154  4.04938252]\n",
      "Iter 379: error - 44.77249235911156, weights: [43.76808516  4.04722217]\n",
      "Iter 380: error - 44.75789906858249, weights: [43.77989013  4.04508153]\n",
      "Iter 381: error - 44.743570743718195, weights: [43.79158743  4.0429604 ]\n",
      "Iter 382: error - 44.729502573622604, weights: [43.80317806  4.04085862]\n",
      "Iter 383: error - 44.71568983474957, weights: [43.81466298  4.038776  ]\n",
      "Iter 384: error - 44.702127889316884, weights: [43.82604316  4.03671238]\n",
      "Iter 385: error - 44.688812183748986, weights: [43.83731956  4.03466758]\n",
      "Iter 386: error - 44.67573824714814, weights: [43.84849311  4.03264143]\n",
      "Iter 387: error - 44.66290168979329, weights: [43.85956476  4.03063376]\n",
      "Iter 388: error - 44.6502982016661, weights: [43.87053544  4.02864439]\n",
      "Iter 389: error - 44.63792355100384, weights: [43.88140607  4.02667317]\n",
      "Iter 390: error - 44.62577358287854, weights: [43.89217756  4.02471993]\n",
      "Iter 391: error - 44.61384421780192, weights: [43.90285081  4.0227845 ]\n",
      "Iter 392: error - 44.60213145035566, weights: [43.91342672  4.02086672]\n",
      "Iter 393: error - 44.590631347846475, weights: [43.92390619  4.01896643]\n",
      "Iter 394: error - 44.57934004898578, weights: [43.93429008  4.01708347]\n",
      "Iter 395: error - 44.56825376259316, weights: [43.94457927  4.01521769]\n",
      "Iter 396: error - 44.55736876632341, weights: [43.95477462  4.01336892]\n",
      "Iter 397: error - 44.5466814054167, weights: [43.96487699  4.01153701]\n",
      "Iter 398: error - 44.53618809147164, weights: [43.97488723  4.00972181]\n",
      "Iter 399: error - 44.525885301240166, weights: [43.98480618  4.00792316]\n",
      "Iter 400: error - 44.51576957544466, weights: [43.99463466  4.00614091]\n",
      "Iter 401: error - 44.50583751761662, weights: [44.00437352  4.00437492]\n",
      "Iter 402: error - 44.496085792956045, weights: [44.01402355  4.00262504]\n",
      "Iter 403: error - 44.48651112721181, weights: [44.02358558  4.00089111]\n",
      "Iter 404: error - 44.47711030558234, weights: [44.0330604  3.999173 ]\n",
      "Iter 405: error - 44.467880171636196, weights: [44.04244881  3.99747056]\n",
      "Iter 406: error - 44.458817626252184, weights: [44.0517516   3.99578364]\n",
      "Iter 407: error - 44.449919626578904, weights: [44.06096955  3.99411211]\n",
      "Iter 408: error - 44.441183185012996, weights: [44.07010343  3.99245582]\n",
      "Iter 409: error - 44.43260536819609, weights: [44.07915402  3.99081463]\n",
      "Iter 410: error - 44.42418329602978, weights: [44.08812206  3.98918842]\n",
      "Iter 411: error - 44.41591414070878, weights: [44.09700831  3.98757703]\n",
      "Iter 412: error - 44.40779512577127, weights: [44.10581352  3.98598034]\n",
      "Iter 413: error - 44.39982352516679, weights: [44.11453843  3.98439821]\n",
      "Iter 414: error - 44.39199666234087, weights: [44.12318377  3.98283052]\n",
      "Iter 415: error - 44.38431190933641, weights: [44.13175027  3.98127711]\n",
      "Iter 416: error - 44.37676668591128, weights: [44.14023863  3.97973788]\n",
      "Iter 417: error - 44.36935845867189, weights: [44.14864959  3.97821268]\n",
      "Iter 418: error - 44.36208474022279, weights: [44.15698383  3.9767014 ]\n",
      "Iter 419: error - 44.3549430883313, weights: [44.16524207  3.97520389]\n",
      "Iter 420: error - 44.34793110510751, weights: [44.173425    3.97372004]\n",
      "Iter 421: error - 44.341046436199335, weights: [44.1815333   3.97224973]\n",
      "Iter 422: error - 44.33428677000183, weights: [44.18956765  3.97079282]\n",
      "Iter 423: error - 44.32764983688114, weights: [44.19752872  3.9693492 ]\n",
      "Iter 424: error - 44.32113340841242, weights: [44.2054172   3.96791875]\n",
      "Iter 425: error - 44.31473529663158, weights: [44.21323373  3.96650134]\n",
      "Iter 426: error - 44.30845335330078, weights: [44.22097897  3.96509686]\n",
      "Iter 427: error - 44.30228546918689, weights: [44.22865358  3.96370519]\n",
      "Iter 428: error - 44.29622957335361, weights: [44.2362582   3.96232621]\n",
      "Iter 429: error - 44.29028363246583, weights: [44.24379346  3.96095981]\n",
      "Iter 430: error - 44.28444565010712, weights: [44.25126001  3.95960587]\n",
      "Iter 431: error - 44.278713666109326, weights: [44.25865845  3.95826427]\n",
      "Iter 432: error - 44.27308575589445, weights: [44.26598943  3.95693491]\n",
      "Iter 433: error - 44.267560029828374, weights: [44.27325354  3.95561768]\n",
      "Iter 434: error - 44.26213463258653, weights: [44.28045141  3.95431245]\n",
      "Iter 435: error - 44.25680774253085, weights: [44.28758364  3.95301913]\n",
      "Iter 436: error - 44.25157757109812, weights: [44.29465082  3.95173761]\n",
      "Iter 437: error - 44.24644236219956, weights: [44.30165354  3.95046777]\n",
      "Iter 438: error - 44.241400391631075, weights: [44.30859241  3.94920952]\n",
      "Iter 439: error - 44.23644996649443, weights: [44.31546799  3.94796274]\n",
      "Iter 440: error - 44.23158942462878, weights: [44.32228086  3.94672733]\n",
      "Iter 441: error - 44.22681713405255, weights: [44.32903161  3.94550318]\n",
      "Iter 442: error - 44.22213149241561, weights: [44.33572078  3.94429021]\n",
      "Iter 443: error - 44.21753092646113, weights: [44.34234896  3.94308829]\n",
      "Iter 444: error - 44.2130138914974, weights: [44.34891668  3.94189733]\n",
      "Iter 445: error - 44.20857887087921, weights: [44.35542451  3.94071724]\n",
      "Iter 446: error - 44.20422437549854, weights: [44.36187298  3.93954791]\n",
      "Iter 447: error - 44.19994894328467, weights: [44.36826265  3.93838924]\n",
      "Iter 448: error - 44.195751138713206, weights: [44.37459404  3.93724114]\n",
      "Iter 449: error - 44.191629552324095, weights: [44.38086769  3.93610351]\n",
      "Iter 450: error - 44.18758280024839, weights: [44.38708413  3.93497626]\n",
      "Iter 451: error - 44.18360952374368, weights: [44.39324387  3.93385928]\n",
      "Iter 452: error - 44.17970838873769, weights: [44.39934743  3.93275249]\n",
      "Iter 453: error - 44.175878085380546, weights: [44.40539534  3.9316558 ]\n",
      "Iter 454: error - 44.17211732760485, weights: [44.41138808  3.93056911]\n",
      "Iter 455: error - 44.168424852693946, weights: [44.41732617  3.92949233]\n",
      "Iter 456: error - 44.1647994208579, weights: [44.42321011  3.92842536]\n",
      "Iter 457: error - 44.16123981481722, weights: [44.42904039  3.92736813]\n",
      "Iter 458: error - 44.157744839394226, weights: [44.43481749  3.92632055]\n",
      "Iter 459: error - 44.15431332111165, weights: [44.44054191  3.92528251]\n",
      "Iter 460: error - 44.150944107798686, weights: [44.44621412  3.92425394]\n",
      "Iter 461: error - 44.14763606820411, weights: [44.4518346   3.92323475]\n",
      "Iter 462: error - 44.14438809161645, weights: [44.45740382  3.92222486]\n",
      "Iter 463: error - 44.14119908749109, weights: [44.46292225  3.92122418]\n",
      "Iter 464: error - 44.13806798508409, weights: [44.46839036  3.92023262]\n",
      "Iter 465: error - 44.13499373309262, weights: [44.47380859  3.91925011]\n",
      "Iter 466: error - 44.131975299302056, weights: [44.47917742  3.91827656]\n",
      "Iter 467: error - 44.12901167023933, weights: [44.48449727  3.91731188]\n",
      "Iter 468: error - 44.1261018508327, weights: [44.48976862  3.91635601]\n",
      "Iter 469: error - 44.12324486407761, weights: [44.49499188  3.91540885]\n",
      "Iter 470: error - 44.12043975070867, weights: [44.50016751  3.91447033]\n",
      "Iter 471: error - 44.11768556887755, weights: [44.50529594  3.91354036]\n",
      "Iter 472: error - 44.11498139383676, weights: [44.5103776   3.91261888]\n",
      "Iter 473: error - 44.11232631762914, weights: [44.51541292  3.91170581]\n",
      "Iter 474: error - 44.10971944878304, weights: [44.52040231  3.91080106]\n",
      "Iter 475: error - 44.10715991201297, weights: [44.5253462   3.90990456]\n",
      "Iter 476: error - 44.10464684792571, weights: [44.530245    3.90901624]\n",
      "Iter 477: error - 44.10217941273172, weights: [44.53509913  3.90813602]\n",
      "Iter 478: error - 44.09975677796196, weights: [44.53990899  3.90726382]\n",
      "Iter 479: error - 44.09737813018957, weights: [44.54467498  3.90639958]\n",
      "Iter 480: error - 44.095042670756854, weights: [44.5493975   3.90554323]\n",
      "Iter 481: error - 44.09274961550706, weights: [44.55407696  3.90469468]\n",
      "Iter 482: error - 44.090498194521125, weights: [44.55871374  3.90385387]\n",
      "Iter 483: error - 44.088287651859176, weights: [44.56330823  3.90302073]\n",
      "Iter 484: error - 44.08611724530667, weights: [44.56786082  3.90219519]\n"
     ]
    },
    {
     "name": "stdout",
     "output_type": "stream",
     "text": [
      "Iter 485: error - 44.08398624612522, weights: [44.5723719   3.90137717]\n",
      "Iter 486: error - 44.08189393880794, weights: [44.57684183  3.90056662]\n",
      "Iter 487: error - 44.07983962083911, weights: [44.58127099  3.89976346]\n",
      "Iter 488: error - 44.077822602458426, weights: [44.58565977  3.89896762]\n",
      "Iter 489: error - 44.0758422064293, weights: [44.59000851  3.89817905]\n",
      "Iter 490: error - 44.07389776781149, weights: [44.5943176   3.89739766]\n",
      "Iter 491: error - 44.07198863373792, weights: [44.59858739  3.8966234 ]\n",
      "Iter 492: error - 44.07011416319536, weights: [44.60281824  3.8958562 ]\n",
      "Iter 493: error - 44.06827372680928, weights: [44.6070105  3.895096 ]\n",
      "Iter 494: error - 44.06646670663248, weights: [44.61116453  3.89434273]\n",
      "Iter 495: error - 44.06469249593764, weights: [44.61528068  3.89359633]\n",
      "Iter 496: error - 44.06295049901359, weights: [44.61935928  3.89285674]\n",
      "Iter 497: error - 44.061240130965295, weights: [44.62340069  3.89212389]\n",
      "Iter 498: error - 44.059560817517465, weights: [44.62740525  3.89139773]\n",
      "Iter 499: error - 44.05791199482176, weights: [44.63137328  3.89067818]\n",
      "Iter 500: error - 44.0562931092674, weights: [44.63530512  3.8899652 ]\n",
      "Iter 501: error - 44.05470361729541, weights: [44.63920111  3.88925873]\n",
      "Iter 502: error - 44.053142985216, weights: [44.64306156  3.88855869]\n",
      "Iter 503: error - 44.0516106890294, weights: [44.64688681  3.88786504]\n",
      "Iter 504: error - 44.05010621424997, weights: [44.65067717  3.88717772]\n",
      "Iter 505: error - 44.0486290557334, weights: [44.65443296  3.88649667]\n",
      "Iter 506: error - 44.04717871750712, weights: [44.6581545   3.88582182]\n",
      "Iter 507: error - 44.04575471260377, weights: [44.6618421   3.88515313]\n",
      "Iter 508: error - 44.04435656289771, weights: [44.66549607  3.88449054]\n",
      "Iter 509: error - 44.04298379894449, weights: [44.66911672  3.88383399]\n",
      "Iter 510: error - 44.041635959823175, weights: [44.67270435  3.88318343]\n",
      "Iter 511: error - 44.040312592981635, weights: [44.67625925  3.8825388 ]\n",
      "Iter 512: error - 44.039013254084594, weights: [44.67978174  3.88190006]\n",
      "Iter 513: error - 44.03773750686442, weights: [44.6832721   3.88126713]\n",
      "Iter 514: error - 44.03648492297464, weights: [44.68673063  3.88063998]\n",
      "Iter 515: error - 44.035255081846174, weights: [44.69015762  3.88001855]\n",
      "Iter 516: error - 44.03404757054602, weights: [44.69355335  3.87940279]\n",
      "Iter 517: error - 44.03286198363871, weights: [44.69691812  3.87879264]\n",
      "Iter 518: error - 44.0316979230501, weights: [44.7002522   3.87818805]\n",
      "Iter 519: error - 44.03055499793379, weights: [44.70355587  3.87758898]\n",
      "Iter 520: error - 44.029432824539825, weights: [44.70682942  3.87699538]\n",
      "Iter 521: error - 44.028331026085894, weights: [44.7100731   3.87640718]\n",
      "Iter 522: error - 44.027249232630766, weights: [44.71328721  3.87582435]\n",
      "Iter 523: error - 44.02618708095016, weights: [44.71647201  3.87524684]\n",
      "Iter 524: error - 44.02514421441471, weights: [44.71962776  3.8746746 ]\n",
      "Iter 525: error - 44.02412028287025, weights: [44.72275472  3.87410757]\n",
      "Iter 526: error - 44.02311494252028, weights: [44.72585318  3.87354571]\n",
      "Iter 527: error - 44.02212785581046, weights: [44.72892337  3.87298898]\n",
      "Iter 528: error - 44.02115869131536, weights: [44.73196556  3.87243732]\n",
      "Iter 529: error - 44.02020712362711, weights: [44.73498001  3.8718907 ]\n",
      "Iter 530: error - 44.019272833246156, weights: [44.73796697  3.87134906]\n",
      "Iter 531: error - 44.018355506474016, weights: [44.74092669  3.87081236]\n",
      "Iter 532: error - 44.01745483530793, weights: [44.74385941  3.87028056]\n",
      "Iter 533: error - 44.01657051733743, weights: [44.74676539  3.8697536 ]\n",
      "Iter 534: error - 44.01570225564282, weights: [44.74964487  3.86923145]\n",
      "Iter 535: error - 44.01484975869548, weights: [44.75249808  3.86871407]\n",
      "Iter 536: error - 44.014012740259986, weights: [44.75532528  3.8682014 ]\n",
      "Iter 537: error - 44.01319091929799, weights: [44.75812669  3.86769341]\n",
      "Iter 538: error - 44.01238401987389, weights: [44.76090255  3.86719005]\n",
      "Iter 539: error - 44.01159177106212, weights: [44.76365309  3.86669128]\n",
      "Iter 540: error - 44.010813906856264, weights: [44.76637856  3.86619706]\n",
      "Iter 541: error - 44.01005016607966, weights: [44.76907916  3.86570735]\n",
      "Iter 542: error - 44.009300292297766, weights: [44.77175514  3.8652221 ]\n",
      "Iter 543: error - 44.00856403373202, weights: [44.77440671  3.86474128]\n",
      "Iter 544: error - 44.00784114317537, weights: [44.7770341   3.86426484]\n",
      "Iter 545: error - 44.00713137790917, weights: [44.77963753  3.86379275]\n",
      "Iter 546: error - 44.00643449962176, weights: [44.78221721  3.86332496]\n",
      "Iter 547: error - 44.00575027432844, weights: [44.78477337  3.86286144]\n",
      "Iter 548: error - 44.00507847229287, weights: [44.78730621  3.86240215]\n",
      "Iter 549: error - 44.00441886794996, weights: [44.78981596  3.86194705]\n",
      "Iter 550: error - 44.00377123983016, weights: [44.79230282  3.86149609]\n",
      "Iter 551: error - 44.00313537048505, weights: [44.794767    3.86104925]\n",
      "Iter 552: error - 44.00251104641434, weights: [44.7972087   3.86060649]\n",
      "Iter 553: error - 44.001898057994225, weights: [44.79962814  3.86016776]\n",
      "Iter 554: error - 44.00129619940696, weights: [44.80202551  3.85973303]\n",
      "Iter 555: error - 44.00070526857176, weights: [44.80440102  3.85930227]\n",
      "Iter 556: error - 44.00012506707694, weights: [44.80675486  3.85887544]\n",
      "Iter 557: error - 43.99955540011335, weights: [44.80908724  3.8584525 ]\n",
      "Iter 558: error - 43.9989960764089, weights: [44.81139834  3.85803341]\n",
      "Iter 559: error - 43.99844690816438, weights: [44.81368837  3.85761815]\n",
      "Iter 560: error - 43.99790771099039, weights: [44.81595752  3.85720668]\n",
      "Iter 561: error - 43.997378303845394, weights: [44.81820596  3.85679896]\n",
      "Iter 562: error - 43.996858508975016, weights: [44.82043391  3.85639495]\n",
      "Iter 563: error - 43.996348151852295, weights: [44.82264153  3.85599463]\n",
      "Iter 564: error - 43.99584706111908, weights: [44.82482902  3.85559797]\n",
      "Iter 565: error - 43.995355068528525, weights: [44.82699657  3.85520492]\n",
      "Iter 566: error - 43.994872008888606, weights: [44.82914434  3.85481545]\n",
      "Iter 567: error - 43.9943977200066, weights: [44.83127253  3.85442954]\n",
      "Iter 568: error - 43.99393204263472, weights: [44.8333813   3.85404714]\n",
      "Iter 569: error - 43.99347482041653, weights: [44.83547085  3.85366824]\n",
      "Iter 570: error - 43.99302589983455, weights: [44.83754134  3.85329279]\n",
      "Iter 571: error - 43.992585130158645, weights: [44.83959294  3.85292076]\n",
      "Iter 572: error - 43.99215236339544, weights: [44.84162584  3.85255212]\n",
      "Iter 573: error - 43.991727454238635, weights: [44.84364019  3.85218685]\n",
      "Iter 574: error - 43.991310260020214, weights: [44.84563618  3.85182491]\n",
      "Iter 575: error - 43.99090064066253, weights: [44.84761396  3.85146627]\n",
      "Iter 576: error - 43.99049845863127, weights: [44.84957371  3.8511109 ]\n",
      "Iter 577: error - 43.990103578889325, weights: [44.85151558  3.85075877]\n",
      "Iter 578: error - 43.98971586885134, weights: [44.85343974  3.85040985]\n",
      "Iter 579: error - 43.989335198339376, weights: [44.85534635  3.85006412]\n",
      "Iter 580: error - 43.988961439538976, weights: [44.85723558  3.84972154]\n",
      "Iter 581: error - 43.98859446695646, weights: [44.85910758  3.84938208]\n",
      "Iter 582: error - 43.98823415737664, weights: [44.8609625   3.84904572]\n",
      "Iter 583: error - 43.98788038982155, weights: [44.86280051  3.84871242]\n",
      "Iter 584: error - 43.987533045509736, weights: [44.86462175  3.84838217]\n",
      "Iter 585: error - 43.98719200781646, weights: [44.86642639  3.84805493]\n",
      "Iter 586: error - 43.98685716223447, weights: [44.86821456  3.84773067]\n",
      "Iter 587: error - 43.9865283963356, weights: [44.86998643  3.84740937]\n",
      "Iter 588: error - 43.98620559973305, weights: [44.87174214  3.847091  ]\n",
      "Iter 589: error - 43.98588866404416, weights: [44.87348184  3.84677553]\n",
      "Iter 590: error - 43.985577482854275, weights: [44.87520567  3.84646294]\n",
      "Iter 591: error - 43.98527195168079, weights: [44.87691378  3.8461532 ]\n",
      "Iter 592: error - 43.98497196793816, weights: [44.87860631  3.84584629]\n",
      "Iter 593: error - 43.98467743090351, weights: [44.88028341  3.84554217]\n",
      "Iter 594: error - 43.98438824168271, weights: [44.88194521  3.84524083]\n",
      "Iter 595: error - 43.984104303177226, weights: [44.88359186  3.84494223]\n",
      "Iter 596: error - 43.983825520051525, weights: [44.88522348  3.84464636]\n",
      "Iter 597: error - 43.98355179870103, weights: [44.88684023  3.84435319]\n",
      "Iter 598: error - 43.98328304722072, weights: [44.88844224  3.84406269]\n",
      "Iter 599: error - 43.98301917537428, weights: [44.89002963  3.84377484]\n",
      "Iter 600: error - 43.98276009456375, weights: [44.89160255  3.84348962]\n",
      "Iter 601: error - 43.982505717799874, weights: [44.89316112  3.843207  ]\n",
      "Iter 602: error - 43.98225595967276, weights: [44.89470548  3.84292695]\n",
      "Iter 603: error - 43.98201073632334, weights: [44.89623575  3.84264946]\n",
      "Iter 604: error - 43.9817699654151, weights: [44.89775207  3.8423745 ]\n",
      "Iter 605: error - 43.9815335661065, weights: [44.89925456  3.84210204]\n",
      "Iter 606: error - 43.981301459023825, weights: [44.90074334  3.84183208]\n",
      "Iter 607: error - 43.981073566234535, weights: [44.90221855  3.84156457]\n",
      "Iter 608: error - 43.980849811221034, weights: [44.90368031  3.8412995 ]\n",
      "Iter 609: error - 43.98063011885507, weights: [44.90512873  3.84103685]\n",
      "Iter 610: error - 43.98041441537248, weights: [44.90656394  3.8407766 ]\n",
      "Iter 611: error - 43.98020262834837, weights: [44.90798607  3.84051872]\n",
      "Iter 612: error - 43.97999468667289, weights: [44.90939523  3.84026319]\n",
      "Iter 613: error - 43.97979052052727, weights: [44.91079153  3.84000999]\n",
      "Iter 614: error - 43.97959006136046, weights: [44.9121751  3.8397591]\n",
      "Iter 615: error - 43.97939324186601, weights: [44.91354605  3.8395105 ]\n",
      "Iter 616: error - 43.979199995959576, weights: [44.9149045   3.83926417]\n",
      "Iter 617: error - 43.97901025875669, weights: [44.91625056  3.83902008]\n",
      "Iter 618: error - 43.978823966550934, weights: [44.91758434  3.83877822]\n",
      "Iter 619: error - 43.9786410567926, weights: [44.91890596  3.83853856]\n",
      "Iter 620: error - 43.97846146806772, weights: [44.92021553  3.83830109]\n",
      "Iter 621: error - 43.97828514007732, weights: [44.92151315  3.83806579]\n",
      "Iter 622: error - 43.97811201361732, weights: [44.92279894  3.83783263]\n",
      "Iter 623: error - 43.97794203055857, weights: [44.92407301  3.8376016 ]\n",
      "Iter 624: error - 43.97777513382732, weights: [44.92533545  3.83737268]\n",
      "Iter 625: error - 43.97761126738616, weights: [44.92658638  3.83714584]\n",
      "Iter 626: error - 43.97745037621505, weights: [44.9278259   3.83692107]\n",
      "Iter 627: error - 43.97729240629301, weights: [44.92905412  3.83669835]\n",
      "Iter 628: error - 43.97713730457983, weights: [44.93027114  3.83647767]\n",
      "Iter 629: error - 43.97698501899838, weights: [44.93147705  3.83625899]\n",
      "Iter 630: error - 43.976835498417074, weights: [44.93267197  3.83604231]\n",
      "Iter 631: error - 43.97668869263269, weights: [44.933856    3.83582761]\n",
      "Iter 632: error - 43.97654455235354, weights: [44.93502922  3.83561486]\n",
      "Iter 633: error - 43.9764030291829, weights: [44.93619174  3.83540405]\n",
      "Iter 634: error - 43.97626407560278, weights: [44.93734367  3.83519517]\n",
      "Iter 635: error - 43.97612764495795, weights: [44.93848508  3.83498819]\n",
      "Iter 636: error - 43.975993691440294, weights: [44.93961609  3.8347831 ]\n",
      "Iter 637: error - 43.97586217007343, weights: [44.94073678  3.83457988]\n",
      "Iter 638: error - 43.97573303669753, weights: [44.94184725  3.83437852]\n",
      "Iter 639: error - 43.97560624795466, weights: [44.9429476   3.83417899]\n",
      "Iter 640: error - 43.97548176127406, weights: [44.94403791  3.83398127]\n",
      "Iter 641: error - 43.97535953485793, weights: [44.94511827  3.83378537]\n",
      "Iter 642: error - 43.97523952766737, weights: [44.94618878  3.83359125]\n",
      "Iter 643: error - 43.975121699408646, weights: [44.94724953  3.8333989 ]\n",
      "Iter 644: error - 43.975006010519564, weights: [44.94830061  3.8332083 ]\n",
      "Iter 645: error - 43.974892422156294, weights: [44.9493421   3.83301944]\n",
      "Iter 646: error - 43.974780896180256, weights: [44.95037409  3.83283231]\n",
      "Iter 647: error - 43.974671395145364, weights: [44.95139667  3.83264688]\n",
      "Iter 648: error - 43.97456388228541, weights: [44.95240992  3.83246314]\n",
      "Iter 649: error - 43.97445832150175, weights: [44.95341394  3.83228108]\n",
      "Iter 650: error - 43.97435467735115, weights: [44.95440879  3.83210067]\n",
      "Iter 651: error - 43.97425291503393, weights: [44.95539458  3.83192192]\n",
      "Iter 652: error - 43.97415300038226, weights: [44.95637137  3.83174479]\n",
      "В случае использования нормального уравнения функционал ошибки составляет 43.974\n"
     ]
    }
   ],
   "source": [
    "n = X.shape[1]\n",
    "alpha = 1e-2\n",
    "W = np.array([1, 0.5])\n",
    "# максимальное число итераций\n",
    "max_iter = 1e4\n",
    "\n",
    "# критерий сходимости (разница весов, при которой алгоритм останавливается)\n",
    "min_weight_dist = 1e-3\n",
    "\n",
    "# зададим начальную разницу весов большим числом\n",
    "weight_dist = np.inf\n",
    "\n",
    "# счетчик итераций\n",
    "iter_num = 0\n",
    "\n",
    "# ход градиентного спуска\n",
    "while weight_dist > min_weight_dist and iter_num < max_iter:\n",
    "    # получаем предсказания\n",
    "    y_pred = np.dot(W, X)\n",
    "    # считаем градиент\n",
    "    dQ = 2 / n * np.dot(X, y_pred - y)\n",
    "    # получаем новые веса\n",
    "    new_w = W - alpha * dQ\n",
    "    # считаем расстояние между весами, насколько мы сделали большой шаг\n",
    "    weight_dist = np.linalg.norm(new_w - W, ord=2)\n",
    "    # считаем ошибку\n",
    "    error = calc_mse(y, y_pred)\n",
    "    print(f'Iter {iter_num}: error - {error}, weights: {new_w}')\n",
    "    iter_num += 1\n",
    "    W = new_w\n",
    "    \n",
    "print(f'В случае использования нормального уравнения функционал ошибки составляет {round(error, 3)}')"
   ]
  },
  {
   "cell_type": "code",
   "execution_count": null,
   "metadata": {},
   "outputs": [],
   "source": []
  }
 ],
 "metadata": {
  "colab": {
   "collapsed_sections": [],
   "name": "Lesson_1_script.ipynb",
   "provenance": []
  },
  "kernelspec": {
   "display_name": "Python 3 (ipykernel)",
   "language": "python",
   "name": "python3"
  },
  "language_info": {
   "codemirror_mode": {
    "name": "ipython",
    "version": 3
   },
   "file_extension": ".py",
   "mimetype": "text/x-python",
   "name": "python",
   "nbconvert_exporter": "python",
   "pygments_lexer": "ipython3",
   "version": "3.9.12"
  }
 },
 "nbformat": 4,
 "nbformat_minor": 1
}
